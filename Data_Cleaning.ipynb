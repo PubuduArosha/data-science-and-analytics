{
 "cells": [
  {
   "cell_type": "code",
   "execution_count": 2,
   "metadata": {},
   "outputs": [],
   "source": [
    "import pandas as pd"
   ]
  },
  {
   "cell_type": "code",
   "execution_count": 3,
   "metadata": {},
   "outputs": [],
   "source": [
    "import numpy as np"
   ]
  },
  {
   "cell_type": "code",
   "execution_count": 4,
   "metadata": {},
   "outputs": [],
   "source": [
    "from matplotlib import pyplot as plt"
   ]
  },
  {
   "cell_type": "code",
   "execution_count": 5,
   "metadata": {},
   "outputs": [],
   "source": [
    "raw_data=pd.read_csv(\"loan.csv\")"
   ]
  },
  {
   "cell_type": "code",
   "execution_count": 6,
   "metadata": {},
   "outputs": [
    {
     "data": {
      "text/html": [
       "<div>\n",
       "<style scoped>\n",
       "    .dataframe tbody tr th:only-of-type {\n",
       "        vertical-align: middle;\n",
       "    }\n",
       "\n",
       "    .dataframe tbody tr th {\n",
       "        vertical-align: top;\n",
       "    }\n",
       "\n",
       "    .dataframe thead th {\n",
       "        text-align: right;\n",
       "    }\n",
       "</style>\n",
       "<table border=\"1\" class=\"dataframe\">\n",
       "  <thead>\n",
       "    <tr style=\"text-align: right;\">\n",
       "      <th></th>\n",
       "      <th>id</th>\n",
       "      <th>member_id</th>\n",
       "      <th>loan_amnt</th>\n",
       "      <th>funded_amnt</th>\n",
       "      <th>funded_amnt_inv</th>\n",
       "      <th>term</th>\n",
       "      <th>int_rate</th>\n",
       "      <th>installment</th>\n",
       "      <th>grade</th>\n",
       "      <th>sub_grade</th>\n",
       "      <th>...</th>\n",
       "      <th>hardship_payoff_balance_amount</th>\n",
       "      <th>hardship_last_payment_amount</th>\n",
       "      <th>disbursement_method</th>\n",
       "      <th>debt_settlement_flag</th>\n",
       "      <th>debt_settlement_flag_date</th>\n",
       "      <th>settlement_status</th>\n",
       "      <th>settlement_date</th>\n",
       "      <th>settlement_amount</th>\n",
       "      <th>settlement_percentage</th>\n",
       "      <th>settlement_term</th>\n",
       "    </tr>\n",
       "  </thead>\n",
       "  <tbody>\n",
       "    <tr>\n",
       "      <th>0</th>\n",
       "      <td>NaN</td>\n",
       "      <td>NaN</td>\n",
       "      <td>2500</td>\n",
       "      <td>2500</td>\n",
       "      <td>2500</td>\n",
       "      <td>36 months</td>\n",
       "      <td>13.56</td>\n",
       "      <td>84.92</td>\n",
       "      <td>C</td>\n",
       "      <td>C1</td>\n",
       "      <td>...</td>\n",
       "      <td>NaN</td>\n",
       "      <td>NaN</td>\n",
       "      <td>Cash</td>\n",
       "      <td>N</td>\n",
       "      <td>NaN</td>\n",
       "      <td>NaN</td>\n",
       "      <td>NaN</td>\n",
       "      <td>NaN</td>\n",
       "      <td>NaN</td>\n",
       "      <td>NaN</td>\n",
       "    </tr>\n",
       "    <tr>\n",
       "      <th>1</th>\n",
       "      <td>NaN</td>\n",
       "      <td>NaN</td>\n",
       "      <td>30000</td>\n",
       "      <td>30000</td>\n",
       "      <td>30000</td>\n",
       "      <td>60 months</td>\n",
       "      <td>18.94</td>\n",
       "      <td>777.23</td>\n",
       "      <td>D</td>\n",
       "      <td>D2</td>\n",
       "      <td>...</td>\n",
       "      <td>NaN</td>\n",
       "      <td>NaN</td>\n",
       "      <td>Cash</td>\n",
       "      <td>N</td>\n",
       "      <td>NaN</td>\n",
       "      <td>NaN</td>\n",
       "      <td>NaN</td>\n",
       "      <td>NaN</td>\n",
       "      <td>NaN</td>\n",
       "      <td>NaN</td>\n",
       "    </tr>\n",
       "    <tr>\n",
       "      <th>2</th>\n",
       "      <td>NaN</td>\n",
       "      <td>NaN</td>\n",
       "      <td>5000</td>\n",
       "      <td>5000</td>\n",
       "      <td>5000</td>\n",
       "      <td>36 months</td>\n",
       "      <td>17.97</td>\n",
       "      <td>180.69</td>\n",
       "      <td>D</td>\n",
       "      <td>D1</td>\n",
       "      <td>...</td>\n",
       "      <td>NaN</td>\n",
       "      <td>NaN</td>\n",
       "      <td>Cash</td>\n",
       "      <td>N</td>\n",
       "      <td>NaN</td>\n",
       "      <td>NaN</td>\n",
       "      <td>NaN</td>\n",
       "      <td>NaN</td>\n",
       "      <td>NaN</td>\n",
       "      <td>NaN</td>\n",
       "    </tr>\n",
       "    <tr>\n",
       "      <th>3</th>\n",
       "      <td>NaN</td>\n",
       "      <td>NaN</td>\n",
       "      <td>4000</td>\n",
       "      <td>4000</td>\n",
       "      <td>4000</td>\n",
       "      <td>36 months</td>\n",
       "      <td>18.94</td>\n",
       "      <td>146.51</td>\n",
       "      <td>D</td>\n",
       "      <td>D2</td>\n",
       "      <td>...</td>\n",
       "      <td>NaN</td>\n",
       "      <td>NaN</td>\n",
       "      <td>Cash</td>\n",
       "      <td>N</td>\n",
       "      <td>NaN</td>\n",
       "      <td>NaN</td>\n",
       "      <td>NaN</td>\n",
       "      <td>NaN</td>\n",
       "      <td>NaN</td>\n",
       "      <td>NaN</td>\n",
       "    </tr>\n",
       "    <tr>\n",
       "      <th>4</th>\n",
       "      <td>NaN</td>\n",
       "      <td>NaN</td>\n",
       "      <td>30000</td>\n",
       "      <td>30000</td>\n",
       "      <td>30000</td>\n",
       "      <td>60 months</td>\n",
       "      <td>16.14</td>\n",
       "      <td>731.78</td>\n",
       "      <td>C</td>\n",
       "      <td>C4</td>\n",
       "      <td>...</td>\n",
       "      <td>NaN</td>\n",
       "      <td>NaN</td>\n",
       "      <td>Cash</td>\n",
       "      <td>N</td>\n",
       "      <td>NaN</td>\n",
       "      <td>NaN</td>\n",
       "      <td>NaN</td>\n",
       "      <td>NaN</td>\n",
       "      <td>NaN</td>\n",
       "      <td>NaN</td>\n",
       "    </tr>\n",
       "  </tbody>\n",
       "</table>\n",
       "<p>5 rows × 142 columns</p>\n",
       "</div>"
      ],
      "text/plain": [
       "   id  member_id  loan_amnt  funded_amnt  funded_amnt_inv        term  \\\n",
       "0 NaN        NaN       2500         2500             2500   36 months   \n",
       "1 NaN        NaN      30000        30000            30000   60 months   \n",
       "2 NaN        NaN       5000         5000             5000   36 months   \n",
       "3 NaN        NaN       4000         4000             4000   36 months   \n",
       "4 NaN        NaN      30000        30000            30000   60 months   \n",
       "\n",
       "   int_rate  installment grade sub_grade  ... hardship_payoff_balance_amount  \\\n",
       "0     13.56        84.92     C        C1  ...                            NaN   \n",
       "1     18.94       777.23     D        D2  ...                            NaN   \n",
       "2     17.97       180.69     D        D1  ...                            NaN   \n",
       "3     18.94       146.51     D        D2  ...                            NaN   \n",
       "4     16.14       731.78     C        C4  ...                            NaN   \n",
       "\n",
       "  hardship_last_payment_amount disbursement_method  debt_settlement_flag  \\\n",
       "0                          NaN                Cash                     N   \n",
       "1                          NaN                Cash                     N   \n",
       "2                          NaN                Cash                     N   \n",
       "3                          NaN                Cash                     N   \n",
       "4                          NaN                Cash                     N   \n",
       "\n",
       "  debt_settlement_flag_date settlement_status settlement_date  \\\n",
       "0                       NaN               NaN             NaN   \n",
       "1                       NaN               NaN             NaN   \n",
       "2                       NaN               NaN             NaN   \n",
       "3                       NaN               NaN             NaN   \n",
       "4                       NaN               NaN             NaN   \n",
       "\n",
       "  settlement_amount  settlement_percentage  settlement_term  \n",
       "0               NaN                    NaN              NaN  \n",
       "1               NaN                    NaN              NaN  \n",
       "2               NaN                    NaN              NaN  \n",
       "3               NaN                    NaN              NaN  \n",
       "4               NaN                    NaN              NaN  \n",
       "\n",
       "[5 rows x 142 columns]"
      ]
     },
     "execution_count": 6,
     "metadata": {},
     "output_type": "execute_result"
    }
   ],
   "source": [
    "raw_data.head()"
   ]
  },
  {
   "cell_type": "code",
   "execution_count": 7,
   "metadata": {},
   "outputs": [
    {
     "data": {
      "text/html": [
       "<div>\n",
       "<style scoped>\n",
       "    .dataframe tbody tr th:only-of-type {\n",
       "        vertical-align: middle;\n",
       "    }\n",
       "\n",
       "    .dataframe tbody tr th {\n",
       "        vertical-align: top;\n",
       "    }\n",
       "\n",
       "    .dataframe thead th {\n",
       "        text-align: right;\n",
       "    }\n",
       "</style>\n",
       "<table border=\"1\" class=\"dataframe\">\n",
       "  <thead>\n",
       "    <tr style=\"text-align: right;\">\n",
       "      <th></th>\n",
       "      <th>id</th>\n",
       "      <th>member_id</th>\n",
       "      <th>loan_amnt</th>\n",
       "      <th>funded_amnt</th>\n",
       "      <th>funded_amnt_inv</th>\n",
       "      <th>term</th>\n",
       "      <th>int_rate</th>\n",
       "      <th>installment</th>\n",
       "      <th>grade</th>\n",
       "      <th>sub_grade</th>\n",
       "      <th>...</th>\n",
       "      <th>hardship_payoff_balance_amount</th>\n",
       "      <th>hardship_last_payment_amount</th>\n",
       "      <th>disbursement_method</th>\n",
       "      <th>debt_settlement_flag</th>\n",
       "      <th>debt_settlement_flag_date</th>\n",
       "      <th>settlement_status</th>\n",
       "      <th>settlement_date</th>\n",
       "      <th>settlement_amount</th>\n",
       "      <th>settlement_percentage</th>\n",
       "      <th>settlement_term</th>\n",
       "    </tr>\n",
       "  </thead>\n",
       "  <tbody>\n",
       "    <tr>\n",
       "      <th>0</th>\n",
       "      <td>NaN</td>\n",
       "      <td>NaN</td>\n",
       "      <td>2500</td>\n",
       "      <td>2500</td>\n",
       "      <td>2500</td>\n",
       "      <td>36 months</td>\n",
       "      <td>13.56</td>\n",
       "      <td>84.92</td>\n",
       "      <td>C</td>\n",
       "      <td>C1</td>\n",
       "      <td>...</td>\n",
       "      <td>NaN</td>\n",
       "      <td>NaN</td>\n",
       "      <td>Cash</td>\n",
       "      <td>N</td>\n",
       "      <td>NaN</td>\n",
       "      <td>NaN</td>\n",
       "      <td>NaN</td>\n",
       "      <td>NaN</td>\n",
       "      <td>NaN</td>\n",
       "      <td>NaN</td>\n",
       "    </tr>\n",
       "    <tr>\n",
       "      <th>1</th>\n",
       "      <td>NaN</td>\n",
       "      <td>NaN</td>\n",
       "      <td>30000</td>\n",
       "      <td>30000</td>\n",
       "      <td>30000</td>\n",
       "      <td>60 months</td>\n",
       "      <td>18.94</td>\n",
       "      <td>777.23</td>\n",
       "      <td>D</td>\n",
       "      <td>D2</td>\n",
       "      <td>...</td>\n",
       "      <td>NaN</td>\n",
       "      <td>NaN</td>\n",
       "      <td>Cash</td>\n",
       "      <td>N</td>\n",
       "      <td>NaN</td>\n",
       "      <td>NaN</td>\n",
       "      <td>NaN</td>\n",
       "      <td>NaN</td>\n",
       "      <td>NaN</td>\n",
       "      <td>NaN</td>\n",
       "    </tr>\n",
       "    <tr>\n",
       "      <th>2</th>\n",
       "      <td>NaN</td>\n",
       "      <td>NaN</td>\n",
       "      <td>5000</td>\n",
       "      <td>5000</td>\n",
       "      <td>5000</td>\n",
       "      <td>36 months</td>\n",
       "      <td>17.97</td>\n",
       "      <td>180.69</td>\n",
       "      <td>D</td>\n",
       "      <td>D1</td>\n",
       "      <td>...</td>\n",
       "      <td>NaN</td>\n",
       "      <td>NaN</td>\n",
       "      <td>Cash</td>\n",
       "      <td>N</td>\n",
       "      <td>NaN</td>\n",
       "      <td>NaN</td>\n",
       "      <td>NaN</td>\n",
       "      <td>NaN</td>\n",
       "      <td>NaN</td>\n",
       "      <td>NaN</td>\n",
       "    </tr>\n",
       "    <tr>\n",
       "      <th>3</th>\n",
       "      <td>NaN</td>\n",
       "      <td>NaN</td>\n",
       "      <td>4000</td>\n",
       "      <td>4000</td>\n",
       "      <td>4000</td>\n",
       "      <td>36 months</td>\n",
       "      <td>18.94</td>\n",
       "      <td>146.51</td>\n",
       "      <td>D</td>\n",
       "      <td>D2</td>\n",
       "      <td>...</td>\n",
       "      <td>NaN</td>\n",
       "      <td>NaN</td>\n",
       "      <td>Cash</td>\n",
       "      <td>N</td>\n",
       "      <td>NaN</td>\n",
       "      <td>NaN</td>\n",
       "      <td>NaN</td>\n",
       "      <td>NaN</td>\n",
       "      <td>NaN</td>\n",
       "      <td>NaN</td>\n",
       "    </tr>\n",
       "    <tr>\n",
       "      <th>4</th>\n",
       "      <td>NaN</td>\n",
       "      <td>NaN</td>\n",
       "      <td>30000</td>\n",
       "      <td>30000</td>\n",
       "      <td>30000</td>\n",
       "      <td>60 months</td>\n",
       "      <td>16.14</td>\n",
       "      <td>731.78</td>\n",
       "      <td>C</td>\n",
       "      <td>C4</td>\n",
       "      <td>...</td>\n",
       "      <td>NaN</td>\n",
       "      <td>NaN</td>\n",
       "      <td>Cash</td>\n",
       "      <td>N</td>\n",
       "      <td>NaN</td>\n",
       "      <td>NaN</td>\n",
       "      <td>NaN</td>\n",
       "      <td>NaN</td>\n",
       "      <td>NaN</td>\n",
       "      <td>NaN</td>\n",
       "    </tr>\n",
       "    <tr>\n",
       "      <th>5</th>\n",
       "      <td>NaN</td>\n",
       "      <td>NaN</td>\n",
       "      <td>5550</td>\n",
       "      <td>5550</td>\n",
       "      <td>5550</td>\n",
       "      <td>36 months</td>\n",
       "      <td>15.02</td>\n",
       "      <td>192.45</td>\n",
       "      <td>C</td>\n",
       "      <td>C3</td>\n",
       "      <td>...</td>\n",
       "      <td>NaN</td>\n",
       "      <td>NaN</td>\n",
       "      <td>Cash</td>\n",
       "      <td>N</td>\n",
       "      <td>NaN</td>\n",
       "      <td>NaN</td>\n",
       "      <td>NaN</td>\n",
       "      <td>NaN</td>\n",
       "      <td>NaN</td>\n",
       "      <td>NaN</td>\n",
       "    </tr>\n",
       "    <tr>\n",
       "      <th>6</th>\n",
       "      <td>NaN</td>\n",
       "      <td>NaN</td>\n",
       "      <td>2000</td>\n",
       "      <td>2000</td>\n",
       "      <td>2000</td>\n",
       "      <td>36 months</td>\n",
       "      <td>17.97</td>\n",
       "      <td>72.28</td>\n",
       "      <td>D</td>\n",
       "      <td>D1</td>\n",
       "      <td>...</td>\n",
       "      <td>NaN</td>\n",
       "      <td>NaN</td>\n",
       "      <td>Cash</td>\n",
       "      <td>N</td>\n",
       "      <td>NaN</td>\n",
       "      <td>NaN</td>\n",
       "      <td>NaN</td>\n",
       "      <td>NaN</td>\n",
       "      <td>NaN</td>\n",
       "      <td>NaN</td>\n",
       "    </tr>\n",
       "    <tr>\n",
       "      <th>7</th>\n",
       "      <td>NaN</td>\n",
       "      <td>NaN</td>\n",
       "      <td>6000</td>\n",
       "      <td>6000</td>\n",
       "      <td>6000</td>\n",
       "      <td>36 months</td>\n",
       "      <td>13.56</td>\n",
       "      <td>203.79</td>\n",
       "      <td>C</td>\n",
       "      <td>C1</td>\n",
       "      <td>...</td>\n",
       "      <td>NaN</td>\n",
       "      <td>NaN</td>\n",
       "      <td>DirectPay</td>\n",
       "      <td>N</td>\n",
       "      <td>NaN</td>\n",
       "      <td>NaN</td>\n",
       "      <td>NaN</td>\n",
       "      <td>NaN</td>\n",
       "      <td>NaN</td>\n",
       "      <td>NaN</td>\n",
       "    </tr>\n",
       "    <tr>\n",
       "      <th>8</th>\n",
       "      <td>NaN</td>\n",
       "      <td>NaN</td>\n",
       "      <td>5000</td>\n",
       "      <td>5000</td>\n",
       "      <td>5000</td>\n",
       "      <td>36 months</td>\n",
       "      <td>17.97</td>\n",
       "      <td>180.69</td>\n",
       "      <td>D</td>\n",
       "      <td>D1</td>\n",
       "      <td>...</td>\n",
       "      <td>NaN</td>\n",
       "      <td>NaN</td>\n",
       "      <td>Cash</td>\n",
       "      <td>N</td>\n",
       "      <td>NaN</td>\n",
       "      <td>NaN</td>\n",
       "      <td>NaN</td>\n",
       "      <td>NaN</td>\n",
       "      <td>NaN</td>\n",
       "      <td>NaN</td>\n",
       "    </tr>\n",
       "    <tr>\n",
       "      <th>9</th>\n",
       "      <td>NaN</td>\n",
       "      <td>NaN</td>\n",
       "      <td>6000</td>\n",
       "      <td>6000</td>\n",
       "      <td>6000</td>\n",
       "      <td>36 months</td>\n",
       "      <td>14.47</td>\n",
       "      <td>206.44</td>\n",
       "      <td>C</td>\n",
       "      <td>C2</td>\n",
       "      <td>...</td>\n",
       "      <td>NaN</td>\n",
       "      <td>NaN</td>\n",
       "      <td>Cash</td>\n",
       "      <td>N</td>\n",
       "      <td>NaN</td>\n",
       "      <td>NaN</td>\n",
       "      <td>NaN</td>\n",
       "      <td>NaN</td>\n",
       "      <td>NaN</td>\n",
       "      <td>NaN</td>\n",
       "    </tr>\n",
       "    <tr>\n",
       "      <th>10</th>\n",
       "      <td>NaN</td>\n",
       "      <td>NaN</td>\n",
       "      <td>5500</td>\n",
       "      <td>5500</td>\n",
       "      <td>5500</td>\n",
       "      <td>36 months</td>\n",
       "      <td>22.35</td>\n",
       "      <td>211.05</td>\n",
       "      <td>D</td>\n",
       "      <td>D5</td>\n",
       "      <td>...</td>\n",
       "      <td>NaN</td>\n",
       "      <td>NaN</td>\n",
       "      <td>Cash</td>\n",
       "      <td>N</td>\n",
       "      <td>NaN</td>\n",
       "      <td>NaN</td>\n",
       "      <td>NaN</td>\n",
       "      <td>NaN</td>\n",
       "      <td>NaN</td>\n",
       "      <td>NaN</td>\n",
       "    </tr>\n",
       "    <tr>\n",
       "      <th>11</th>\n",
       "      <td>NaN</td>\n",
       "      <td>NaN</td>\n",
       "      <td>28000</td>\n",
       "      <td>28000</td>\n",
       "      <td>28000</td>\n",
       "      <td>60 months</td>\n",
       "      <td>11.31</td>\n",
       "      <td>613.13</td>\n",
       "      <td>B</td>\n",
       "      <td>B3</td>\n",
       "      <td>...</td>\n",
       "      <td>NaN</td>\n",
       "      <td>NaN</td>\n",
       "      <td>DirectPay</td>\n",
       "      <td>N</td>\n",
       "      <td>NaN</td>\n",
       "      <td>NaN</td>\n",
       "      <td>NaN</td>\n",
       "      <td>NaN</td>\n",
       "      <td>NaN</td>\n",
       "      <td>NaN</td>\n",
       "    </tr>\n",
       "    <tr>\n",
       "      <th>12</th>\n",
       "      <td>NaN</td>\n",
       "      <td>NaN</td>\n",
       "      <td>11200</td>\n",
       "      <td>11200</td>\n",
       "      <td>11200</td>\n",
       "      <td>36 months</td>\n",
       "      <td>8.19</td>\n",
       "      <td>351.95</td>\n",
       "      <td>A</td>\n",
       "      <td>A4</td>\n",
       "      <td>...</td>\n",
       "      <td>NaN</td>\n",
       "      <td>NaN</td>\n",
       "      <td>Cash</td>\n",
       "      <td>N</td>\n",
       "      <td>NaN</td>\n",
       "      <td>NaN</td>\n",
       "      <td>NaN</td>\n",
       "      <td>NaN</td>\n",
       "      <td>NaN</td>\n",
       "      <td>NaN</td>\n",
       "    </tr>\n",
       "    <tr>\n",
       "      <th>13</th>\n",
       "      <td>NaN</td>\n",
       "      <td>NaN</td>\n",
       "      <td>6500</td>\n",
       "      <td>6500</td>\n",
       "      <td>6500</td>\n",
       "      <td>36 months</td>\n",
       "      <td>17.97</td>\n",
       "      <td>234.90</td>\n",
       "      <td>D</td>\n",
       "      <td>D1</td>\n",
       "      <td>...</td>\n",
       "      <td>NaN</td>\n",
       "      <td>NaN</td>\n",
       "      <td>Cash</td>\n",
       "      <td>N</td>\n",
       "      <td>NaN</td>\n",
       "      <td>NaN</td>\n",
       "      <td>NaN</td>\n",
       "      <td>NaN</td>\n",
       "      <td>NaN</td>\n",
       "      <td>NaN</td>\n",
       "    </tr>\n",
       "    <tr>\n",
       "      <th>14</th>\n",
       "      <td>NaN</td>\n",
       "      <td>NaN</td>\n",
       "      <td>22000</td>\n",
       "      <td>22000</td>\n",
       "      <td>22000</td>\n",
       "      <td>60 months</td>\n",
       "      <td>12.98</td>\n",
       "      <td>500.35</td>\n",
       "      <td>B</td>\n",
       "      <td>B5</td>\n",
       "      <td>...</td>\n",
       "      <td>NaN</td>\n",
       "      <td>NaN</td>\n",
       "      <td>Cash</td>\n",
       "      <td>N</td>\n",
       "      <td>NaN</td>\n",
       "      <td>NaN</td>\n",
       "      <td>NaN</td>\n",
       "      <td>NaN</td>\n",
       "      <td>NaN</td>\n",
       "      <td>NaN</td>\n",
       "    </tr>\n",
       "  </tbody>\n",
       "</table>\n",
       "<p>15 rows × 142 columns</p>\n",
       "</div>"
      ],
      "text/plain": [
       "    id  member_id  loan_amnt  funded_amnt  funded_amnt_inv        term  \\\n",
       "0  NaN        NaN       2500         2500             2500   36 months   \n",
       "1  NaN        NaN      30000        30000            30000   60 months   \n",
       "2  NaN        NaN       5000         5000             5000   36 months   \n",
       "3  NaN        NaN       4000         4000             4000   36 months   \n",
       "4  NaN        NaN      30000        30000            30000   60 months   \n",
       "5  NaN        NaN       5550         5550             5550   36 months   \n",
       "6  NaN        NaN       2000         2000             2000   36 months   \n",
       "7  NaN        NaN       6000         6000             6000   36 months   \n",
       "8  NaN        NaN       5000         5000             5000   36 months   \n",
       "9  NaN        NaN       6000         6000             6000   36 months   \n",
       "10 NaN        NaN       5500         5500             5500   36 months   \n",
       "11 NaN        NaN      28000        28000            28000   60 months   \n",
       "12 NaN        NaN      11200        11200            11200   36 months   \n",
       "13 NaN        NaN       6500         6500             6500   36 months   \n",
       "14 NaN        NaN      22000        22000            22000   60 months   \n",
       "\n",
       "    int_rate  installment grade sub_grade  ... hardship_payoff_balance_amount  \\\n",
       "0      13.56        84.92     C        C1  ...                            NaN   \n",
       "1      18.94       777.23     D        D2  ...                            NaN   \n",
       "2      17.97       180.69     D        D1  ...                            NaN   \n",
       "3      18.94       146.51     D        D2  ...                            NaN   \n",
       "4      16.14       731.78     C        C4  ...                            NaN   \n",
       "5      15.02       192.45     C        C3  ...                            NaN   \n",
       "6      17.97        72.28     D        D1  ...                            NaN   \n",
       "7      13.56       203.79     C        C1  ...                            NaN   \n",
       "8      17.97       180.69     D        D1  ...                            NaN   \n",
       "9      14.47       206.44     C        C2  ...                            NaN   \n",
       "10     22.35       211.05     D        D5  ...                            NaN   \n",
       "11     11.31       613.13     B        B3  ...                            NaN   \n",
       "12      8.19       351.95     A        A4  ...                            NaN   \n",
       "13     17.97       234.90     D        D1  ...                            NaN   \n",
       "14     12.98       500.35     B        B5  ...                            NaN   \n",
       "\n",
       "   hardship_last_payment_amount disbursement_method  debt_settlement_flag  \\\n",
       "0                           NaN                Cash                     N   \n",
       "1                           NaN                Cash                     N   \n",
       "2                           NaN                Cash                     N   \n",
       "3                           NaN                Cash                     N   \n",
       "4                           NaN                Cash                     N   \n",
       "5                           NaN                Cash                     N   \n",
       "6                           NaN                Cash                     N   \n",
       "7                           NaN           DirectPay                     N   \n",
       "8                           NaN                Cash                     N   \n",
       "9                           NaN                Cash                     N   \n",
       "10                          NaN                Cash                     N   \n",
       "11                          NaN           DirectPay                     N   \n",
       "12                          NaN                Cash                     N   \n",
       "13                          NaN                Cash                     N   \n",
       "14                          NaN                Cash                     N   \n",
       "\n",
       "   debt_settlement_flag_date settlement_status settlement_date  \\\n",
       "0                        NaN               NaN             NaN   \n",
       "1                        NaN               NaN             NaN   \n",
       "2                        NaN               NaN             NaN   \n",
       "3                        NaN               NaN             NaN   \n",
       "4                        NaN               NaN             NaN   \n",
       "5                        NaN               NaN             NaN   \n",
       "6                        NaN               NaN             NaN   \n",
       "7                        NaN               NaN             NaN   \n",
       "8                        NaN               NaN             NaN   \n",
       "9                        NaN               NaN             NaN   \n",
       "10                       NaN               NaN             NaN   \n",
       "11                       NaN               NaN             NaN   \n",
       "12                       NaN               NaN             NaN   \n",
       "13                       NaN               NaN             NaN   \n",
       "14                       NaN               NaN             NaN   \n",
       "\n",
       "   settlement_amount  settlement_percentage  settlement_term  \n",
       "0                NaN                    NaN              NaN  \n",
       "1                NaN                    NaN              NaN  \n",
       "2                NaN                    NaN              NaN  \n",
       "3                NaN                    NaN              NaN  \n",
       "4                NaN                    NaN              NaN  \n",
       "5                NaN                    NaN              NaN  \n",
       "6                NaN                    NaN              NaN  \n",
       "7                NaN                    NaN              NaN  \n",
       "8                NaN                    NaN              NaN  \n",
       "9                NaN                    NaN              NaN  \n",
       "10               NaN                    NaN              NaN  \n",
       "11               NaN                    NaN              NaN  \n",
       "12               NaN                    NaN              NaN  \n",
       "13               NaN                    NaN              NaN  \n",
       "14               NaN                    NaN              NaN  \n",
       "\n",
       "[15 rows x 142 columns]"
      ]
     },
     "execution_count": 7,
     "metadata": {},
     "output_type": "execute_result"
    }
   ],
   "source": [
    "raw_data.head(15)"
   ]
  },
  {
   "cell_type": "code",
   "execution_count": 8,
   "metadata": {},
   "outputs": [
    {
     "data": {
      "text/plain": [
       "(20000, 142)"
      ]
     },
     "execution_count": 8,
     "metadata": {},
     "output_type": "execute_result"
    }
   ],
   "source": [
    "raw_data.shape"
   ]
  },
  {
   "cell_type": "code",
   "execution_count": 9,
   "metadata": {},
   "outputs": [
    {
     "data": {
      "text/plain": [
       "id                       float64\n",
       "member_id                float64\n",
       "loan_amnt                  int64\n",
       "funded_amnt                int64\n",
       "funded_amnt_inv            int64\n",
       "                          ...   \n",
       "settlement_status        float64\n",
       "settlement_date          float64\n",
       "settlement_amount        float64\n",
       "settlement_percentage    float64\n",
       "settlement_term          float64\n",
       "Length: 142, dtype: object"
      ]
     },
     "execution_count": 9,
     "metadata": {},
     "output_type": "execute_result"
    }
   ],
   "source": [
    "raw_data.dtypes"
   ]
  },
  {
   "cell_type": "code",
   "execution_count": 10,
   "metadata": {},
   "outputs": [
    {
     "data": {
      "text/plain": [
       "count    20000.000000\n",
       "mean     16111.383750\n",
       "std      10369.193761\n",
       "min       1000.000000\n",
       "25%       8000.000000\n",
       "50%      14000.000000\n",
       "75%      22000.000000\n",
       "max      40000.000000\n",
       "Name: loan_amnt, dtype: float64"
      ]
     },
     "execution_count": 10,
     "metadata": {},
     "output_type": "execute_result"
    }
   ],
   "source": [
    "raw_data['loan_amnt'].describe()"
   ]
  },
  {
   "cell_type": "code",
   "execution_count": 11,
   "metadata": {},
   "outputs": [],
   "source": [
    "raw_data= raw_data.drop(['zip_code', 'policy_code', 'application_type', 'last_credit_pull_d',\n",
    "'verification_status', 'pymnt_plan', 'funded_amnt_inv', 'sub_grade', 'out_prncp',\n",
    "'out_prncp_inv', 'total_pymnt_inv', 'total_pymnt', 'total_pymnt_inv', 'total_rec_prncp',\n",
    "'total_rec_int', 'total_rec_late_fee', 'recoveries', 'collection_recovery_fee', 'last_pymnt_d',\n",
    "'last_pymnt_amnt', 'initial_list_status'], axis =1)\n"
   ]
  },
  {
   "cell_type": "code",
   "execution_count": 12,
   "metadata": {},
   "outputs": [
    {
     "data": {
      "text/plain": [
       "(20000, 122)"
      ]
     },
     "execution_count": 12,
     "metadata": {},
     "output_type": "execute_result"
    }
   ],
   "source": [
    "raw_data.shape"
   ]
  },
  {
   "cell_type": "code",
   "execution_count": 13,
   "metadata": {},
   "outputs": [
    {
     "name": "stdout",
     "output_type": "stream",
     "text": [
      "Column\t\t\t\t\t Null Values%\n",
      "id\t\t\t\t\t 100.0\n",
      "member_id\t\t\t\t\t 100.0\n",
      "url\t\t\t\t\t 100.0\n",
      "desc\t\t\t\t\t 100.0\n",
      "mths_since_last_delinq\t\t\t\t\t 56.375\n",
      "mths_since_last_record\t\t\t\t\t 88.41\n",
      "mths_since_last_major_derog\t\t\t\t\t 77.47\n",
      "annual_inc_joint\t\t\t\t\t 87.845\n",
      "dti_joint\t\t\t\t\t 87.845\n",
      "verification_status_joint\t\t\t\t\t 89.17\n",
      "mths_since_recent_bc_dlq\t\t\t\t\t 80.36\n",
      "mths_since_recent_revol_delinq\t\t\t\t\t 71.3\n",
      "revol_bal_joint\t\t\t\t\t 87.845\n",
      "sec_app_earliest_cr_line\t\t\t\t\t 87.845\n",
      "sec_app_inq_last_6mths\t\t\t\t\t 87.845\n",
      "sec_app_mort_acc\t\t\t\t\t 87.845\n",
      "sec_app_open_acc\t\t\t\t\t 87.845\n",
      "sec_app_revol_util\t\t\t\t\t 88.0\n",
      "sec_app_open_act_il\t\t\t\t\t 87.845\n",
      "sec_app_num_rev_accts\t\t\t\t\t 87.845\n",
      "sec_app_chargeoff_within_12_mths\t\t\t\t\t 87.845\n",
      "sec_app_collections_12_mths_ex_med\t\t\t\t\t 87.845\n",
      "sec_app_mths_since_last_major_derog\t\t\t\t\t 96.295\n",
      "hardship_type\t\t\t\t\t 100.0\n",
      "hardship_reason\t\t\t\t\t 100.0\n",
      "hardship_status\t\t\t\t\t 100.0\n",
      "deferral_term\t\t\t\t\t 100.0\n",
      "hardship_amount\t\t\t\t\t 100.0\n",
      "hardship_start_date\t\t\t\t\t 100.0\n",
      "hardship_end_date\t\t\t\t\t 100.0\n",
      "payment_plan_start_date\t\t\t\t\t 100.0\n",
      "hardship_length\t\t\t\t\t 100.0\n",
      "hardship_dpd\t\t\t\t\t 100.0\n",
      "hardship_loan_status\t\t\t\t\t 100.0\n",
      "orig_projected_additional_accrued_interest\t\t\t\t\t 100.0\n",
      "hardship_payoff_balance_amount\t\t\t\t\t 100.0\n",
      "hardship_last_payment_amount\t\t\t\t\t 100.0\n",
      "debt_settlement_flag_date\t\t\t\t\t 100.0\n",
      "settlement_status\t\t\t\t\t 100.0\n",
      "settlement_date\t\t\t\t\t 100.0\n",
      "settlement_amount\t\t\t\t\t 100.0\n",
      "settlement_percentage\t\t\t\t\t 100.0\n",
      "settlement_term\t\t\t\t\t 100.0\n",
      "A total of 43 deleted !\n"
     ]
    }
   ],
   "source": [
    "col_num=0\n",
    "TotalObjects = raw_data.shape[0]\n",
    "print (\"Column\\t\\t\\t\\t\\t Null Values%\")\n",
    "for x in raw_data:\n",
    "    nullCount = raw_data[x].isnull().sum();\n",
    "    nullPercent = nullCount*100 / (TotalObjects)\n",
    "    if nullCount > 0 and nullPercent > 20 :\n",
    "        col_num=col_num+1\n",
    "        raw_data.drop(x, axis=1,inplace=True)\n",
    "        print(str(x)+\"\\t\\t\\t\\t\\t \"+str(nullPercent))\n",
    "print (\"A total of \"+str(col_num)+\" deleted !\")"
   ]
  },
  {
   "cell_type": "code",
   "execution_count": 14,
   "metadata": {},
   "outputs": [
    {
     "data": {
      "text/plain": [
       "(20000, 79)"
      ]
     },
     "execution_count": 14,
     "metadata": {},
     "output_type": "execute_result"
    }
   ],
   "source": [
    "raw_data.shape"
   ]
  },
  {
   "cell_type": "code",
   "execution_count": 15,
   "metadata": {},
   "outputs": [
    {
     "data": {
      "text/plain": [
       "3319"
      ]
     },
     "execution_count": 15,
     "metadata": {},
     "output_type": "execute_result"
    }
   ],
   "source": [
    "raw_data['emp_title'].isnull().sum()"
   ]
  },
  {
   "cell_type": "code",
   "execution_count": 16,
   "metadata": {},
   "outputs": [
    {
     "data": {
      "text/plain": [
       "0.16595"
      ]
     },
     "execution_count": 16,
     "metadata": {},
     "output_type": "execute_result"
    }
   ],
   "source": [
    "3319/20000"
   ]
  },
  {
   "cell_type": "code",
   "execution_count": 17,
   "metadata": {},
   "outputs": [],
   "source": [
    "raw_data['emp_title'].fillna('Unknown',inplace = True)\n"
   ]
  },
  {
   "cell_type": "code",
   "execution_count": 18,
   "metadata": {},
   "outputs": [
    {
     "data": {
      "text/plain": [
       "0"
      ]
     },
     "execution_count": 18,
     "metadata": {},
     "output_type": "execute_result"
    }
   ],
   "source": [
    "raw_data['emp_title'].isnull().sum()"
   ]
  },
  {
   "cell_type": "code",
   "execution_count": 19,
   "metadata": {},
   "outputs": [
    {
     "data": {
      "text/plain": [
       "43"
      ]
     },
     "execution_count": 19,
     "metadata": {},
     "output_type": "execute_result"
    }
   ],
   "source": [
    "raw_data['dti'].isnull().sum()"
   ]
  },
  {
   "cell_type": "code",
   "execution_count": 20,
   "metadata": {},
   "outputs": [],
   "source": [
    "raw_data['dti'].fillna(0,inplace=True)"
   ]
  },
  {
   "cell_type": "code",
   "execution_count": 21,
   "metadata": {},
   "outputs": [
    {
     "data": {
      "text/plain": [
       "21"
      ]
     },
     "execution_count": 21,
     "metadata": {},
     "output_type": "execute_result"
    }
   ],
   "source": [
    "raw_data['revol_util'].isnull().sum()"
   ]
  },
  {
   "cell_type": "code",
   "execution_count": 22,
   "metadata": {},
   "outputs": [],
   "source": [
    "raw_data['revol_util'].fillna(raw_data['revol_util'].mean(),inplace = True)\n"
   ]
  },
  {
   "cell_type": "code",
   "execution_count": 23,
   "metadata": {},
   "outputs": [
    {
     "data": {
      "text/plain": [
       "0"
      ]
     },
     "execution_count": 23,
     "metadata": {},
     "output_type": "execute_result"
    }
   ],
   "source": [
    "raw_data['revol_util'].isnull().sum()"
   ]
  },
  {
   "cell_type": "code",
   "execution_count": 24,
   "metadata": {},
   "outputs": [
    {
     "data": {
      "text/plain": [
       "array(['10+ years', '6 years', '4 years', '< 1 year', '2 years',\n",
       "       '9 years', nan, '5 years', '3 years', '7 years', '1 year',\n",
       "       '8 years'], dtype=object)"
      ]
     },
     "execution_count": 24,
     "metadata": {},
     "output_type": "execute_result"
    }
   ],
   "source": [
    "pd.unique(raw_data['emp_length'].values)\n"
   ]
  },
  {
   "cell_type": "code",
   "execution_count": 25,
   "metadata": {},
   "outputs": [],
   "source": [
    "def CalculateEmployeeLength(year):\n",
    "    if year == '< 1 year':\n",
    "        return 0.5\n",
    "    elif year == '10+ years':\n",
    "        return 10\n",
    "    else:\n",
    "        yr=str(year)\n",
    "        return yr.rstrip(' years')"
   ]
  },
  {
   "cell_type": "code",
   "execution_count": 26,
   "metadata": {},
   "outputs": [],
   "source": [
    "raw_data['emp_length']=raw_data['emp_length'].apply(CalculateEmployeeLength)"
   ]
  },
  {
   "cell_type": "code",
   "execution_count": 27,
   "metadata": {},
   "outputs": [
    {
     "data": {
      "text/plain": [
       "array([10, '6', '4', 0.5, '2', '9', 'nan', '5', '3', '7', '1', '8'],\n",
       "      dtype=object)"
      ]
     },
     "execution_count": 27,
     "metadata": {},
     "output_type": "execute_result"
    }
   ],
   "source": [
    " pd.unique(raw_data['emp_length'].values)"
   ]
  },
  {
   "cell_type": "code",
   "execution_count": 28,
   "metadata": {},
   "outputs": [],
   "source": [
    "def CalculateLoanRanges(value):\n",
    "    if value <= 5000:\n",
    "        return '5K and Below'\n",
    "    if value > 5000 and value <= 10000:\n",
    "        return '5K-10K'\n",
    "    if value > 10000 and value <= 15000:\n",
    "        return '10K-15K'\n",
    "    if value > 15000 and value <= 20000:\n",
    "        return '15K-20K'\n",
    "    if value > 20000 and value <= 25000:\n",
    "        return '20K-25K'\n",
    "    if value > 25000 and value <= 30000:\n",
    "        return '25K-30K'\n",
    "    if value > 30000 :\n",
    "        return '30K and Above'\n",
    "    return 'Other'"
   ]
  },
  {
   "cell_type": "code",
   "execution_count": 29,
   "metadata": {},
   "outputs": [],
   "source": [
    "loan_ranges = raw_data['loan_amnt'].apply(CalculateLoanRanges)"
   ]
  },
  {
   "cell_type": "code",
   "execution_count": 30,
   "metadata": {},
   "outputs": [
    {
     "data": {
      "text/plain": [
       "5K-10K           5063\n",
       "10K-15K          3472\n",
       "15K-20K          3118\n",
       "5K and Below     2898\n",
       "30K and Above    2268\n",
       "20K-25K          1834\n",
       "25K-30K          1347\n",
       "Name: loan_amnt, dtype: int64"
      ]
     },
     "execution_count": 30,
     "metadata": {},
     "output_type": "execute_result"
    }
   ],
   "source": [
    "loan_ranges.value_counts()"
   ]
  },
  {
   "cell_type": "code",
   "execution_count": 31,
   "metadata": {},
   "outputs": [
    {
     "data": {
      "text/plain": [
       "Text(0.5, 1.0, 'Pie Chart of Loan Amount')"
      ]
     },
     "execution_count": 31,
     "metadata": {},
     "output_type": "execute_result"
    },
    {
     "data": {
      "image/png": "[encoded data removed]",
      "text/plain": [
       "<Figure size 432x288 with 1 Axes>"
      ]
     },
     "metadata": {},
     "output_type": "display_data"
    }
   ],
   "source": [
    "f = plt.figure()\n",
    "loan_ranges.value_counts().plot.pie(autopct='%1.0f%%',)\n",
    "plt.title('Pie Chart of Loan Amount')"
   ]
  },
  {
   "cell_type": "code",
   "execution_count": 32,
   "metadata": {},
   "outputs": [
    {
     "data": {
      "text/plain": [
       "<AxesSubplot:>"
      ]
     },
     "execution_count": 32,
     "metadata": {},
     "output_type": "execute_result"
    },
    {
     "data": {
      "image/png": "[encoded data removed]",
      "text/plain": [
       "<Figure size 432x288 with 1 Axes>"
      ]
     },
     "metadata": {
      "needs_background": "light"
     },
     "output_type": "display_data"
    }
   ],
   "source": [
    "pur = raw_data['purpose'].value_counts()\n",
    "pur.plot(kind='bar')"
   ]
  },
  {
   "cell_type": "code",
   "execution_count": 33,
   "metadata": {},
   "outputs": [],
   "source": [
    "raw_data.to_csv('cleaned_loans2007.csv', index=False,encoding='utf-8')"
   ]
  },
  {
   "cell_type": "code",
   "execution_count": 34,
   "metadata": {},
   "outputs": [],
   "source": [
    "#Activity02"
   ]
  },
  {
   "cell_type": "code",
   "execution_count": 62,
   "metadata": {},
   "outputs": [],
   "source": [
    "bp=pd.read_csv(\"Building_permits.csv\")"
   ]
  },
  {
   "cell_type": "code",
   "execution_count": 63,
   "metadata": {},
   "outputs": [
    {
     "data": {
      "text/html": [
       "<div>\n",
       "<style scoped>\n",
       "    .dataframe tbody tr th:only-of-type {\n",
       "        vertical-align: middle;\n",
       "    }\n",
       "\n",
       "    .dataframe tbody tr th {\n",
       "        vertical-align: top;\n",
       "    }\n",
       "\n",
       "    .dataframe thead th {\n",
       "        text-align: right;\n",
       "    }\n",
       "</style>\n",
       "<table border=\"1\" class=\"dataframe\">\n",
       "  <thead>\n",
       "    <tr style=\"text-align: right;\">\n",
       "      <th></th>\n",
       "      <th>Permit Number</th>\n",
       "      <th>Permit Type</th>\n",
       "      <th>Permit Type Definition</th>\n",
       "      <th>Permit Creation Date</th>\n",
       "      <th>Block</th>\n",
       "      <th>Lot</th>\n",
       "      <th>Street Number</th>\n",
       "      <th>Street Number Suffix</th>\n",
       "      <th>Street Name</th>\n",
       "      <th>Street Suffix</th>\n",
       "      <th>...</th>\n",
       "      <th>Existing Construction Type</th>\n",
       "      <th>Existing Construction Type Description</th>\n",
       "      <th>Proposed Construction Type</th>\n",
       "      <th>Proposed Construction Type Description</th>\n",
       "      <th>Site Permit</th>\n",
       "      <th>Supervisor District</th>\n",
       "      <th>Neighborhoods - Analysis Boundaries</th>\n",
       "      <th>Zipcode</th>\n",
       "      <th>Location</th>\n",
       "      <th>Record ID</th>\n",
       "    </tr>\n",
       "  </thead>\n",
       "  <tbody>\n",
       "    <tr>\n",
       "      <th>0</th>\n",
       "      <td>2.01505E+11</td>\n",
       "      <td>4</td>\n",
       "      <td>sign - erect</td>\n",
       "      <td>5/6/2015</td>\n",
       "      <td>326</td>\n",
       "      <td>23</td>\n",
       "      <td>140</td>\n",
       "      <td>NaN</td>\n",
       "      <td>Ellis</td>\n",
       "      <td>St</td>\n",
       "      <td>...</td>\n",
       "      <td>3.0</td>\n",
       "      <td>constr type 3</td>\n",
       "      <td>NaN</td>\n",
       "      <td>NaN</td>\n",
       "      <td>NaN</td>\n",
       "      <td>3.0</td>\n",
       "      <td>Tenderloin</td>\n",
       "      <td>94102.0</td>\n",
       "      <td>(37.785719256680785, -122.40852313194863)</td>\n",
       "      <td>1.380610e+12</td>\n",
       "    </tr>\n",
       "    <tr>\n",
       "      <th>1</th>\n",
       "      <td>2.01604E+11</td>\n",
       "      <td>4</td>\n",
       "      <td>sign - erect</td>\n",
       "      <td>4/19/2016</td>\n",
       "      <td>306</td>\n",
       "      <td>7</td>\n",
       "      <td>440</td>\n",
       "      <td>NaN</td>\n",
       "      <td>Geary</td>\n",
       "      <td>St</td>\n",
       "      <td>...</td>\n",
       "      <td>3.0</td>\n",
       "      <td>constr type 3</td>\n",
       "      <td>NaN</td>\n",
       "      <td>NaN</td>\n",
       "      <td>NaN</td>\n",
       "      <td>3.0</td>\n",
       "      <td>Tenderloin</td>\n",
       "      <td>94102.0</td>\n",
       "      <td>(37.78733980600732, -122.41063199757738)</td>\n",
       "      <td>1.420160e+12</td>\n",
       "    </tr>\n",
       "    <tr>\n",
       "      <th>2</th>\n",
       "      <td>2.01605E+11</td>\n",
       "      <td>3</td>\n",
       "      <td>additions alterations or repairs</td>\n",
       "      <td>5/27/2016</td>\n",
       "      <td>595</td>\n",
       "      <td>203</td>\n",
       "      <td>1647</td>\n",
       "      <td>NaN</td>\n",
       "      <td>Pacific</td>\n",
       "      <td>Av</td>\n",
       "      <td>...</td>\n",
       "      <td>1.0</td>\n",
       "      <td>constr type 1</td>\n",
       "      <td>1.0</td>\n",
       "      <td>constr type 1</td>\n",
       "      <td>NaN</td>\n",
       "      <td>3.0</td>\n",
       "      <td>Russian Hill</td>\n",
       "      <td>94109.0</td>\n",
       "      <td>(37.7946573324287, -122.42232562979227)</td>\n",
       "      <td>1.424860e+12</td>\n",
       "    </tr>\n",
       "    <tr>\n",
       "      <th>3</th>\n",
       "      <td>2.01611E+11</td>\n",
       "      <td>8</td>\n",
       "      <td>otc alterations permit</td>\n",
       "      <td>11/7/2016</td>\n",
       "      <td>156</td>\n",
       "      <td>11</td>\n",
       "      <td>1230</td>\n",
       "      <td>NaN</td>\n",
       "      <td>Pacific</td>\n",
       "      <td>Av</td>\n",
       "      <td>...</td>\n",
       "      <td>5.0</td>\n",
       "      <td>wood frame (5)</td>\n",
       "      <td>5.0</td>\n",
       "      <td>wood frame (5)</td>\n",
       "      <td>NaN</td>\n",
       "      <td>3.0</td>\n",
       "      <td>Nob Hill</td>\n",
       "      <td>94109.0</td>\n",
       "      <td>(37.79595867909168, -122.41557405519474)</td>\n",
       "      <td>1.443570e+12</td>\n",
       "    </tr>\n",
       "    <tr>\n",
       "      <th>4</th>\n",
       "      <td>2.01611E+11</td>\n",
       "      <td>6</td>\n",
       "      <td>demolitions</td>\n",
       "      <td>11/28/2016</td>\n",
       "      <td>342</td>\n",
       "      <td>1</td>\n",
       "      <td>950</td>\n",
       "      <td>NaN</td>\n",
       "      <td>Market</td>\n",
       "      <td>St</td>\n",
       "      <td>...</td>\n",
       "      <td>3.0</td>\n",
       "      <td>constr type 3</td>\n",
       "      <td>NaN</td>\n",
       "      <td>NaN</td>\n",
       "      <td>NaN</td>\n",
       "      <td>6.0</td>\n",
       "      <td>Tenderloin</td>\n",
       "      <td>94102.0</td>\n",
       "      <td>(37.78315261897309, -122.40950883997789)</td>\n",
       "      <td>1.445480e+11</td>\n",
       "    </tr>\n",
       "  </tbody>\n",
       "</table>\n",
       "<p>5 rows × 43 columns</p>\n",
       "</div>"
      ],
      "text/plain": [
       "  Permit Number  Permit Type            Permit Type Definition  \\\n",
       "0   2.01505E+11            4                      sign - erect   \n",
       "1   2.01604E+11            4                      sign - erect   \n",
       "2   2.01605E+11            3  additions alterations or repairs   \n",
       "3   2.01611E+11            8            otc alterations permit   \n",
       "4   2.01611E+11            6                       demolitions   \n",
       "\n",
       "  Permit Creation Date Block  Lot  Street Number Street Number Suffix  \\\n",
       "0             5/6/2015   326   23            140                  NaN   \n",
       "1            4/19/2016   306    7            440                  NaN   \n",
       "2            5/27/2016   595  203           1647                  NaN   \n",
       "3            11/7/2016   156   11           1230                  NaN   \n",
       "4           11/28/2016   342    1            950                  NaN   \n",
       "\n",
       "  Street Name Street Suffix  ...  Existing Construction Type  \\\n",
       "0       Ellis            St  ...                         3.0   \n",
       "1       Geary            St  ...                         3.0   \n",
       "2     Pacific            Av  ...                         1.0   \n",
       "3     Pacific            Av  ...                         5.0   \n",
       "4      Market            St  ...                         3.0   \n",
       "\n",
       "  Existing Construction Type Description Proposed Construction Type  \\\n",
       "0                          constr type 3                        NaN   \n",
       "1                          constr type 3                        NaN   \n",
       "2                          constr type 1                        1.0   \n",
       "3                         wood frame (5)                        5.0   \n",
       "4                          constr type 3                        NaN   \n",
       "\n",
       "  Proposed Construction Type Description Site Permit Supervisor District  \\\n",
       "0                                    NaN         NaN                 3.0   \n",
       "1                                    NaN         NaN                 3.0   \n",
       "2                          constr type 1         NaN                 3.0   \n",
       "3                         wood frame (5)         NaN                 3.0   \n",
       "4                                    NaN         NaN                 6.0   \n",
       "\n",
       "  Neighborhoods - Analysis Boundaries  Zipcode  \\\n",
       "0                          Tenderloin  94102.0   \n",
       "1                          Tenderloin  94102.0   \n",
       "2                        Russian Hill  94109.0   \n",
       "3                            Nob Hill  94109.0   \n",
       "4                          Tenderloin  94102.0   \n",
       "\n",
       "                                    Location     Record ID  \n",
       "0  (37.785719256680785, -122.40852313194863)  1.380610e+12  \n",
       "1   (37.78733980600732, -122.41063199757738)  1.420160e+12  \n",
       "2    (37.7946573324287, -122.42232562979227)  1.424860e+12  \n",
       "3   (37.79595867909168, -122.41557405519474)  1.443570e+12  \n",
       "4   (37.78315261897309, -122.40950883997789)  1.445480e+11  \n",
       "\n",
       "[5 rows x 43 columns]"
      ]
     },
     "execution_count": 63,
     "metadata": {},
     "output_type": "execute_result"
    }
   ],
   "source": [
    "bp.head()"
   ]
  },
  {
   "cell_type": "code",
   "execution_count": 64,
   "metadata": {},
   "outputs": [
    {
     "data": {
      "text/plain": [
       "(17647, 43)"
      ]
     },
     "execution_count": 64,
     "metadata": {},
     "output_type": "execute_result"
    }
   ],
   "source": [
    "bp.shape"
   ]
  },
  {
   "cell_type": "code",
   "execution_count": 65,
   "metadata": {},
   "outputs": [
    {
     "data": {
      "text/plain": [
       "Permit Number                              object\n",
       "Permit Type                                 int64\n",
       "Permit Type Definition                     object\n",
       "Permit Creation Date                       object\n",
       "Block                                      object\n",
       "Lot                                        object\n",
       "Street Number                               int64\n",
       "Street Number Suffix                       object\n",
       "Street Name                                object\n",
       "Street Suffix                              object\n",
       "Unit                                      float64\n",
       "Unit Suffix                                object\n",
       "Description                                object\n",
       "Current Status                             object\n",
       "Current Status Date                        object\n",
       "Filed Date                                 object\n",
       "Issued Date                                object\n",
       "Completed Date                             object\n",
       "First Construction Document Date           object\n",
       "Structural Notification                    object\n",
       "Number of Existing Stories                float64\n",
       "Number of Proposed Stories                float64\n",
       "Voluntary Soft-Story Retrofit              object\n",
       "Fire Only Permit                           object\n",
       "Permit Expiration Date                     object\n",
       "Estimated Cost                            float64\n",
       "Revised Cost                              float64\n",
       "Existing Use                               object\n",
       "Existing Units                            float64\n",
       "Proposed Use                               object\n",
       "Proposed Units                            float64\n",
       "Plansets                                  float64\n",
       "TIDF Compliance                           float64\n",
       "Existing Construction Type                float64\n",
       "Existing Construction Type Description     object\n",
       "Proposed Construction Type                float64\n",
       "Proposed Construction Type Description     object\n",
       "Site Permit                                object\n",
       "Supervisor District                       float64\n",
       "Neighborhoods - Analysis Boundaries        object\n",
       "Zipcode                                   float64\n",
       "Location                                   object\n",
       "Record ID                                 float64\n",
       "dtype: object"
      ]
     },
     "execution_count": 65,
     "metadata": {},
     "output_type": "execute_result"
    }
   ],
   "source": [
    "bp.dtypes"
   ]
  },
  {
   "cell_type": "code",
   "execution_count": 66,
   "metadata": {},
   "outputs": [
    {
     "data": {
      "text/plain": [
       "count    2445.000000\n",
       "mean      114.197137\n",
       "std       482.652669\n",
       "min         0.000000\n",
       "25%         0.000000\n",
       "50%         0.000000\n",
       "75%         2.000000\n",
       "max      5602.000000\n",
       "Name: Unit, dtype: float64"
      ]
     },
     "execution_count": 66,
     "metadata": {},
     "output_type": "execute_result"
    }
   ],
   "source": [
    "bp['Unit'].describe()"
   ]
  },
  {
   "cell_type": "code",
   "execution_count": 67,
   "metadata": {},
   "outputs": [
    {
     "name": "stdout",
     "output_type": "stream",
     "text": [
      "Column\t\t\t\tNull Values%\n",
      "Street Number Suffix\t\t\t\t98.71932906443021\n",
      "Unit\t\t\t\t86.14495381651273\n",
      "Unit Suffix\t\t\t\t98.8383294610982\n",
      "Completed Date\t\t\t\t62.4242080806936\n",
      "Structural Notification\t\t\t\t96.81532271774239\n",
      "Number of Existing Stories\t\t\t\t20.81940273134244\n",
      "Number of Proposed Stories\t\t\t\t21.063070210234034\n",
      "Voluntary Soft-Story Retrofit\t\t\t\t99.96033320111067\n",
      "Fire Only Permit\t\t\t\t89.88496628322095\n",
      "Permit Expiration Date\t\t\t\t30.022100073666913\n",
      "Existing Use\t\t\t\t20.230067433558112\n",
      "Existing Units\t\t\t\t26.51442171473905\n",
      "Proposed Use\t\t\t\t20.802402674675584\n",
      "Proposed Units\t\t\t\t26.35575451918173\n",
      "TIDF Compliance\t\t\t\t100.0\n",
      "Existing Construction Type\t\t\t\t21.108403694678984\n",
      "Existing Construction Type Description\t\t\t\t21.108403694678984\n",
      "Proposed Construction Type\t\t\t\t21.284070946903157\n",
      "Proposed Construction Type Description\t\t\t\t21.284070946903157\n",
      "Site Permit\t\t\t\t97.5803252677509\n",
      "A total of20deleted !\n"
     ]
    }
   ],
   "source": [
    "col_num = 0\n",
    "TotalObject = bp.shape[0]\n",
    "print(\"Column\\t\\t\\t\\tNull Values%\")\n",
    "\n",
    "for x in bp:\n",
    "    nullCount = bp[x].isnull().sum();\n",
    "    nullPercent = nullCount * 100 / (TotalObject)\n",
    "    if nullCount > 0 and nullPercent > 20:\n",
    "        col_num=col_num+1\n",
    "        bp.drop(x,axis=1,inplace=True)\n",
    "        print(str(x)+\"\\t\\t\\t\\t\"+str(nullPercent))\n",
    "print(\"A total of\" + str(col_num)+\"deleted !\")"
   ]
  },
  {
   "cell_type": "code",
   "execution_count": 68,
   "metadata": {},
   "outputs": [],
   "source": [
    "bp= bp.drop(['Current Status Date', 'Description', 'Zipcode', 'Block', 'Lot', 'Supervisor District', 'Neighborhoods - Analysis Boundaries', 'Location'], axis =1)"
   ]
  },
  {
   "cell_type": "code",
   "execution_count": 69,
   "metadata": {
    "scrolled": true
   },
   "outputs": [
    {
     "data": {
      "text/plain": [
       "Permit Number                        object\n",
       "Permit Type                           int64\n",
       "Permit Type Definition               object\n",
       "Permit Creation Date                 object\n",
       "Street Number                         int64\n",
       "Street Name                          object\n",
       "Street Suffix                        object\n",
       "Current Status                       object\n",
       "Filed Date                           object\n",
       "Issued Date                          object\n",
       "First Construction Document Date     object\n",
       "Estimated Cost                      float64\n",
       "Revised Cost                        float64\n",
       "Plansets                            float64\n",
       "Record ID                           float64\n",
       "dtype: object"
      ]
     },
     "execution_count": 69,
     "metadata": {},
     "output_type": "execute_result"
    }
   ],
   "source": [
    "bp.dtypes"
   ]
  },
  {
   "cell_type": "code",
   "execution_count": 70,
   "metadata": {},
   "outputs": [
    {
     "data": {
      "text/html": [
       "<div>\n",
       "<style scoped>\n",
       "    .dataframe tbody tr th:only-of-type {\n",
       "        vertical-align: middle;\n",
       "    }\n",
       "\n",
       "    .dataframe tbody tr th {\n",
       "        vertical-align: top;\n",
       "    }\n",
       "\n",
       "    .dataframe thead th {\n",
       "        text-align: right;\n",
       "    }\n",
       "</style>\n",
       "<table border=\"1\" class=\"dataframe\">\n",
       "  <thead>\n",
       "    <tr style=\"text-align: right;\">\n",
       "      <th></th>\n",
       "      <th>Permit Number</th>\n",
       "      <th>Permit Type</th>\n",
       "      <th>Permit Type Definition</th>\n",
       "      <th>Permit Creation Date</th>\n",
       "      <th>Street Number</th>\n",
       "      <th>Street Name</th>\n",
       "      <th>Street Suffix</th>\n",
       "      <th>Current Status</th>\n",
       "      <th>Filed Date</th>\n",
       "      <th>Issued Date</th>\n",
       "      <th>First Construction Document Date</th>\n",
       "      <th>Estimated Cost</th>\n",
       "      <th>Revised Cost</th>\n",
       "      <th>Plansets</th>\n",
       "      <th>Record ID</th>\n",
       "    </tr>\n",
       "  </thead>\n",
       "  <tbody>\n",
       "    <tr>\n",
       "      <th>0</th>\n",
       "      <td>2.01505E+11</td>\n",
       "      <td>4</td>\n",
       "      <td>sign - erect</td>\n",
       "      <td>5/6/2015</td>\n",
       "      <td>140</td>\n",
       "      <td>Ellis</td>\n",
       "      <td>St</td>\n",
       "      <td>expired</td>\n",
       "      <td>5/6/2015</td>\n",
       "      <td>11/9/2015</td>\n",
       "      <td>11/9/2015</td>\n",
       "      <td>4000.0</td>\n",
       "      <td>4000.0</td>\n",
       "      <td>2.0</td>\n",
       "      <td>1.380610e+12</td>\n",
       "    </tr>\n",
       "    <tr>\n",
       "      <th>1</th>\n",
       "      <td>2.01604E+11</td>\n",
       "      <td>4</td>\n",
       "      <td>sign - erect</td>\n",
       "      <td>4/19/2016</td>\n",
       "      <td>440</td>\n",
       "      <td>Geary</td>\n",
       "      <td>St</td>\n",
       "      <td>issued</td>\n",
       "      <td>4/19/2016</td>\n",
       "      <td>8/3/2017</td>\n",
       "      <td>8/3/2017</td>\n",
       "      <td>1.0</td>\n",
       "      <td>500.0</td>\n",
       "      <td>2.0</td>\n",
       "      <td>1.420160e+12</td>\n",
       "    </tr>\n",
       "    <tr>\n",
       "      <th>2</th>\n",
       "      <td>2.01605E+11</td>\n",
       "      <td>3</td>\n",
       "      <td>additions alterations or repairs</td>\n",
       "      <td>5/27/2016</td>\n",
       "      <td>1647</td>\n",
       "      <td>Pacific</td>\n",
       "      <td>Av</td>\n",
       "      <td>withdrawn</td>\n",
       "      <td>5/27/2016</td>\n",
       "      <td>NaN</td>\n",
       "      <td>NaN</td>\n",
       "      <td>20000.0</td>\n",
       "      <td>NaN</td>\n",
       "      <td>2.0</td>\n",
       "      <td>1.424860e+12</td>\n",
       "    </tr>\n",
       "    <tr>\n",
       "      <th>3</th>\n",
       "      <td>2.01611E+11</td>\n",
       "      <td>8</td>\n",
       "      <td>otc alterations permit</td>\n",
       "      <td>11/7/2016</td>\n",
       "      <td>1230</td>\n",
       "      <td>Pacific</td>\n",
       "      <td>Av</td>\n",
       "      <td>complete</td>\n",
       "      <td>11/7/2016</td>\n",
       "      <td>7/18/2017</td>\n",
       "      <td>7/18/2017</td>\n",
       "      <td>2000.0</td>\n",
       "      <td>2000.0</td>\n",
       "      <td>2.0</td>\n",
       "      <td>1.443570e+12</td>\n",
       "    </tr>\n",
       "    <tr>\n",
       "      <th>4</th>\n",
       "      <td>2.01611E+11</td>\n",
       "      <td>6</td>\n",
       "      <td>demolitions</td>\n",
       "      <td>11/28/2016</td>\n",
       "      <td>950</td>\n",
       "      <td>Market</td>\n",
       "      <td>St</td>\n",
       "      <td>issued</td>\n",
       "      <td>11/28/2016</td>\n",
       "      <td>12/1/2017</td>\n",
       "      <td>11/20/2017</td>\n",
       "      <td>100000.0</td>\n",
       "      <td>100000.0</td>\n",
       "      <td>2.0</td>\n",
       "      <td>1.445480e+11</td>\n",
       "    </tr>\n",
       "  </tbody>\n",
       "</table>\n",
       "</div>"
      ],
      "text/plain": [
       "  Permit Number  Permit Type            Permit Type Definition  \\\n",
       "0   2.01505E+11            4                      sign - erect   \n",
       "1   2.01604E+11            4                      sign - erect   \n",
       "2   2.01605E+11            3  additions alterations or repairs   \n",
       "3   2.01611E+11            8            otc alterations permit   \n",
       "4   2.01611E+11            6                       demolitions   \n",
       "\n",
       "  Permit Creation Date  Street Number Street Name Street Suffix  \\\n",
       "0             5/6/2015            140       Ellis            St   \n",
       "1            4/19/2016            440       Geary            St   \n",
       "2            5/27/2016           1647     Pacific            Av   \n",
       "3            11/7/2016           1230     Pacific            Av   \n",
       "4           11/28/2016            950      Market            St   \n",
       "\n",
       "  Current Status  Filed Date Issued Date First Construction Document Date  \\\n",
       "0        expired    5/6/2015   11/9/2015                        11/9/2015   \n",
       "1         issued   4/19/2016    8/3/2017                         8/3/2017   \n",
       "2      withdrawn   5/27/2016         NaN                              NaN   \n",
       "3       complete   11/7/2016   7/18/2017                        7/18/2017   \n",
       "4         issued  11/28/2016   12/1/2017                       11/20/2017   \n",
       "\n",
       "   Estimated Cost  Revised Cost  Plansets     Record ID  \n",
       "0          4000.0        4000.0       2.0  1.380610e+12  \n",
       "1             1.0         500.0       2.0  1.420160e+12  \n",
       "2         20000.0           NaN       2.0  1.424860e+12  \n",
       "3          2000.0        2000.0       2.0  1.443570e+12  \n",
       "4        100000.0      100000.0       2.0  1.445480e+11  "
      ]
     },
     "execution_count": 70,
     "metadata": {},
     "output_type": "execute_result"
    }
   ],
   "source": [
    "bp.head()"
   ]
  },
  {
   "cell_type": "code",
   "execution_count": 71,
   "metadata": {},
   "outputs": [],
   "source": [
    "bp['Estimated Cost'].fillna(bp['Estimated Cost'].mean(),inplace = True)"
   ]
  },
  {
   "cell_type": "code",
   "execution_count": 72,
   "metadata": {},
   "outputs": [
    {
     "data": {
      "text/html": [
       "<div>\n",
       "<style scoped>\n",
       "    .dataframe tbody tr th:only-of-type {\n",
       "        vertical-align: middle;\n",
       "    }\n",
       "\n",
       "    .dataframe tbody tr th {\n",
       "        vertical-align: top;\n",
       "    }\n",
       "\n",
       "    .dataframe thead th {\n",
       "        text-align: right;\n",
       "    }\n",
       "</style>\n",
       "<table border=\"1\" class=\"dataframe\">\n",
       "  <thead>\n",
       "    <tr style=\"text-align: right;\">\n",
       "      <th></th>\n",
       "      <th>Permit Number</th>\n",
       "      <th>Permit Type</th>\n",
       "      <th>Permit Type Definition</th>\n",
       "      <th>Permit Creation Date</th>\n",
       "      <th>Street Number</th>\n",
       "      <th>Street Name</th>\n",
       "      <th>Street Suffix</th>\n",
       "      <th>Current Status</th>\n",
       "      <th>Filed Date</th>\n",
       "      <th>Issued Date</th>\n",
       "      <th>First Construction Document Date</th>\n",
       "      <th>Estimated Cost</th>\n",
       "      <th>Revised Cost</th>\n",
       "      <th>Plansets</th>\n",
       "      <th>Record ID</th>\n",
       "    </tr>\n",
       "  </thead>\n",
       "  <tbody>\n",
       "    <tr>\n",
       "      <th>0</th>\n",
       "      <td>2.01505E+11</td>\n",
       "      <td>4</td>\n",
       "      <td>sign - erect</td>\n",
       "      <td>5/6/2015</td>\n",
       "      <td>140</td>\n",
       "      <td>Ellis</td>\n",
       "      <td>St</td>\n",
       "      <td>expired</td>\n",
       "      <td>5/6/2015</td>\n",
       "      <td>11/9/2015</td>\n",
       "      <td>11/9/2015</td>\n",
       "      <td>4000.0</td>\n",
       "      <td>4000.0</td>\n",
       "      <td>2.0</td>\n",
       "      <td>1.380610e+12</td>\n",
       "    </tr>\n",
       "    <tr>\n",
       "      <th>1</th>\n",
       "      <td>2.01604E+11</td>\n",
       "      <td>4</td>\n",
       "      <td>sign - erect</td>\n",
       "      <td>4/19/2016</td>\n",
       "      <td>440</td>\n",
       "      <td>Geary</td>\n",
       "      <td>St</td>\n",
       "      <td>issued</td>\n",
       "      <td>4/19/2016</td>\n",
       "      <td>8/3/2017</td>\n",
       "      <td>8/3/2017</td>\n",
       "      <td>1.0</td>\n",
       "      <td>500.0</td>\n",
       "      <td>2.0</td>\n",
       "      <td>1.420160e+12</td>\n",
       "    </tr>\n",
       "    <tr>\n",
       "      <th>2</th>\n",
       "      <td>2.01605E+11</td>\n",
       "      <td>3</td>\n",
       "      <td>additions alterations or repairs</td>\n",
       "      <td>5/27/2016</td>\n",
       "      <td>1647</td>\n",
       "      <td>Pacific</td>\n",
       "      <td>Av</td>\n",
       "      <td>withdrawn</td>\n",
       "      <td>5/27/2016</td>\n",
       "      <td>NaN</td>\n",
       "      <td>NaN</td>\n",
       "      <td>20000.0</td>\n",
       "      <td>NaN</td>\n",
       "      <td>2.0</td>\n",
       "      <td>1.424860e+12</td>\n",
       "    </tr>\n",
       "    <tr>\n",
       "      <th>3</th>\n",
       "      <td>2.01611E+11</td>\n",
       "      <td>8</td>\n",
       "      <td>otc alterations permit</td>\n",
       "      <td>11/7/2016</td>\n",
       "      <td>1230</td>\n",
       "      <td>Pacific</td>\n",
       "      <td>Av</td>\n",
       "      <td>complete</td>\n",
       "      <td>11/7/2016</td>\n",
       "      <td>7/18/2017</td>\n",
       "      <td>7/18/2017</td>\n",
       "      <td>2000.0</td>\n",
       "      <td>2000.0</td>\n",
       "      <td>2.0</td>\n",
       "      <td>1.443570e+12</td>\n",
       "    </tr>\n",
       "    <tr>\n",
       "      <th>4</th>\n",
       "      <td>2.01611E+11</td>\n",
       "      <td>6</td>\n",
       "      <td>demolitions</td>\n",
       "      <td>11/28/2016</td>\n",
       "      <td>950</td>\n",
       "      <td>Market</td>\n",
       "      <td>St</td>\n",
       "      <td>issued</td>\n",
       "      <td>11/28/2016</td>\n",
       "      <td>12/1/2017</td>\n",
       "      <td>11/20/2017</td>\n",
       "      <td>100000.0</td>\n",
       "      <td>100000.0</td>\n",
       "      <td>2.0</td>\n",
       "      <td>1.445480e+11</td>\n",
       "    </tr>\n",
       "  </tbody>\n",
       "</table>\n",
       "</div>"
      ],
      "text/plain": [
       "  Permit Number  Permit Type            Permit Type Definition  \\\n",
       "0   2.01505E+11            4                      sign - erect   \n",
       "1   2.01604E+11            4                      sign - erect   \n",
       "2   2.01605E+11            3  additions alterations or repairs   \n",
       "3   2.01611E+11            8            otc alterations permit   \n",
       "4   2.01611E+11            6                       demolitions   \n",
       "\n",
       "  Permit Creation Date  Street Number Street Name Street Suffix  \\\n",
       "0             5/6/2015            140       Ellis            St   \n",
       "1            4/19/2016            440       Geary            St   \n",
       "2            5/27/2016           1647     Pacific            Av   \n",
       "3            11/7/2016           1230     Pacific            Av   \n",
       "4           11/28/2016            950      Market            St   \n",
       "\n",
       "  Current Status  Filed Date Issued Date First Construction Document Date  \\\n",
       "0        expired    5/6/2015   11/9/2015                        11/9/2015   \n",
       "1         issued   4/19/2016    8/3/2017                         8/3/2017   \n",
       "2      withdrawn   5/27/2016         NaN                              NaN   \n",
       "3       complete   11/7/2016   7/18/2017                        7/18/2017   \n",
       "4         issued  11/28/2016   12/1/2017                       11/20/2017   \n",
       "\n",
       "   Estimated Cost  Revised Cost  Plansets     Record ID  \n",
       "0          4000.0        4000.0       2.0  1.380610e+12  \n",
       "1             1.0         500.0       2.0  1.420160e+12  \n",
       "2         20000.0           NaN       2.0  1.424860e+12  \n",
       "3          2000.0        2000.0       2.0  1.443570e+12  \n",
       "4        100000.0      100000.0       2.0  1.445480e+11  "
      ]
     },
     "execution_count": 72,
     "metadata": {},
     "output_type": "execute_result"
    }
   ],
   "source": [
    "bp.head()"
   ]
  },
  {
   "cell_type": "code",
   "execution_count": 73,
   "metadata": {},
   "outputs": [
    {
     "data": {
      "text/plain": [
       "0"
      ]
     },
     "execution_count": 73,
     "metadata": {},
     "output_type": "execute_result"
    }
   ],
   "source": [
    "bp['Estimated Cost'].isnull().sum()"
   ]
  },
  {
   "cell_type": "code",
   "execution_count": 74,
   "metadata": {},
   "outputs": [
    {
     "data": {
      "text/plain": [
       "781"
      ]
     },
     "execution_count": 74,
     "metadata": {},
     "output_type": "execute_result"
    }
   ],
   "source": [
    "bp['Revised Cost'].isnull().sum()"
   ]
  },
  {
   "cell_type": "code",
   "execution_count": 75,
   "metadata": {},
   "outputs": [],
   "source": [
    "bp['Revised Cost'].fillna(bp['Revised Cost'].mean(),inplace = True)"
   ]
  },
  {
   "cell_type": "code",
   "execution_count": 76,
   "metadata": {},
   "outputs": [
    {
     "data": {
      "text/plain": [
       "0"
      ]
     },
     "execution_count": 76,
     "metadata": {},
     "output_type": "execute_result"
    }
   ],
   "source": [
    "bp['Revised Cost'].isnull().sum()"
   ]
  },
  {
   "cell_type": "code",
   "execution_count": 77,
   "metadata": {},
   "outputs": [
    {
     "data": {
      "text/plain": [
       "231"
      ]
     },
     "execution_count": 77,
     "metadata": {},
     "output_type": "execute_result"
    }
   ],
   "source": [
    "bp['Street Suffix'].isnull().sum()"
   ]
  },
  {
   "cell_type": "code",
   "execution_count": 78,
   "metadata": {},
   "outputs": [],
   "source": [
    "bp['Street Suffix'].fillna('Unknown',inplace = True)"
   ]
  },
  {
   "cell_type": "code",
   "execution_count": 79,
   "metadata": {},
   "outputs": [
    {
     "data": {
      "text/plain": [
       "0"
      ]
     },
     "execution_count": 79,
     "metadata": {},
     "output_type": "execute_result"
    }
   ],
   "source": [
    "bp['Street Suffix'].isnull().sum()"
   ]
  },
  {
   "cell_type": "code",
   "execution_count": 80,
   "metadata": {},
   "outputs": [
    {
     "data": {
      "text/plain": [
       "3194"
      ]
     },
     "execution_count": 80,
     "metadata": {},
     "output_type": "execute_result"
    }
   ],
   "source": [
    "bp['Plansets'].isnull().sum()"
   ]
  },
  {
   "cell_type": "code",
   "execution_count": 81,
   "metadata": {},
   "outputs": [],
   "source": [
    "bp['Plansets'].fillna('Unknown',inplace = True)"
   ]
  },
  {
   "cell_type": "code",
   "execution_count": 82,
   "metadata": {},
   "outputs": [
    {
     "data": {
      "text/plain": [
       "0"
      ]
     },
     "execution_count": 82,
     "metadata": {},
     "output_type": "execute_result"
    }
   ],
   "source": [
    "bp['Plansets'].isnull().sum()"
   ]
  },
  {
   "cell_type": "code",
   "execution_count": 83,
   "metadata": {},
   "outputs": [],
   "source": [
    "#05"
   ]
  },
  {
   "cell_type": "code",
   "execution_count": 84,
   "metadata": {},
   "outputs": [
    {
     "data": {
      "text/plain": [
       "2146"
      ]
     },
     "execution_count": 84,
     "metadata": {},
     "output_type": "execute_result"
    }
   ],
   "source": [
    "bp['Issued Date'].isnull().sum()"
   ]
  },
  {
   "cell_type": "code",
   "execution_count": 89,
   "metadata": {},
   "outputs": [],
   "source": [
    "bp['Issued Date'].fillna('7/26/2020',inplace = True)"
   ]
  },
  {
   "cell_type": "code",
   "execution_count": 90,
   "metadata": {},
   "outputs": [
    {
     "data": {
      "text/plain": [
       "array(['11/9/2015', '8/3/2017', '7/26/2020', '7/18/2017', '12/1/2017',\n",
       "       '7/6/2017', '6/30/2017', '7/5/2017', '7/7/2017', '7/10/2017',\n",
       "       '7/26/2017', '7/27/2017', '7/28/2017', '7/31/2017', '8/7/2017',\n",
       "       '8/8/2017', '8/16/2017', '8/18/2017', '8/21/2017', '8/22/2017',\n",
       "       '8/23/2017', '8/25/2017', '8/28/2017', '8/29/2017', '9/7/2017',\n",
       "       '9/8/2017', '9/15/2017', '9/19/2017', '9/21/2017', '9/27/2017',\n",
       "       '9/28/2017', '10/4/2017', '10/11/2017', '10/12/2017', '10/13/2017',\n",
       "       '10/17/2017', '10/30/2017', '11/3/2017', '11/7/2017', '11/9/2017',\n",
       "       '11/13/2017', '11/17/2017', '11/20/2017', '11/27/2017',\n",
       "       '11/28/2017', '11/30/2017', '12/5/2017', '12/6/2017', '12/7/2017',\n",
       "       '12/8/2017', '12/11/2017', '12/18/2017', '12/22/2017',\n",
       "       '12/26/2017', '12/27/2017', '9/11/2015', '8/25/2014', '5/20/2015',\n",
       "       '7/19/2017', '11/1/2017', '7/1/2016', '3/31/2016', '4/6/2016',\n",
       "       '9/14/2017', '9/9/2016', '10/7/2016', '10/17/2016', '11/23/2016',\n",
       "       '12/15/2016', '12/30/2016', '2/3/2017', '2/14/2017', '3/13/2017',\n",
       "       '3/30/2017', '4/20/2017', '4/28/2017', '5/3/2017', '5/18/2017',\n",
       "       '7/12/2017', '5/31/2017', '6/1/2017', '6/2/2017', '12/19/2017',\n",
       "       '6/8/2017', '6/20/2017', '6/22/2017', '6/23/2017', '6/27/2017',\n",
       "       '7/17/2017', '7/3/2017', '7/11/2017', '7/13/2017', '7/14/2017',\n",
       "       '7/20/2017', '7/21/2017', '7/24/2017', '7/25/2017', '8/1/2017',\n",
       "       '2/12/2018', '8/4/2017', '8/9/2017', '8/10/2017', '8/11/2017',\n",
       "       '8/24/2017', '8/14/2017', '8/15/2017', '8/17/2017', '1/8/2018',\n",
       "       '1/25/2018', '8/30/2017', '8/31/2017', '9/1/2017', '9/5/2017',\n",
       "       '9/6/2017', '11/21/2017', '9/11/2017', '10/6/2017', '9/12/2017',\n",
       "       '9/13/2017', '9/18/2017', '9/20/2017', '2/23/2018', '9/22/2017',\n",
       "       '9/25/2017', '9/26/2017', '9/29/2017', '10/2/2017', '10/3/2017',\n",
       "       '10/5/2017', '10/10/2017', '10/16/2017', '10/18/2017',\n",
       "       '10/19/2017', '10/20/2017', '10/23/2017', '10/24/2017',\n",
       "       '10/25/2017', '10/26/2017', '2/21/2018', '10/27/2017',\n",
       "       '10/31/2017', '11/2/2017', '11/6/2017', '1/24/2018', '11/8/2017',\n",
       "       '11/10/2017', '11/14/2017', '11/16/2017', '11/22/2017',\n",
       "       '11/29/2017', '1/4/2018', '12/12/2017', '12/13/2017', '12/15/2017',\n",
       "       '12/14/2017', '11/15/2017', '12/20/2017', '12/21/2017',\n",
       "       '12/29/2017', '5/20/2014', '5/15/2014', '1/2/2013', '1/3/2013',\n",
       "       '7/16/2013', '7/15/2013', '7/8/2013', '6/24/2013', '3/1/2013',\n",
       "       '1/8/2013', '2/7/2013', '1/15/2013', '1/4/2013', '1/11/2013',\n",
       "       '1/10/2013', '1/9/2013', '8/22/2013', '3/25/2013', '2/1/2013',\n",
       "       '1/18/2013', '4/17/2013', '2/19/2013', '6/7/2013', '1/24/2013',\n",
       "       '3/22/2013', '1/7/2013', '10/10/2013', '2/14/2013', '3/13/2013',\n",
       "       '9/4/2013', '4/4/2013', '2/20/2013', '8/28/2013', '2/11/2013',\n",
       "       '4/10/2013', '6/14/2013', '6/12/2013', '1/14/2013', '2/6/2013',\n",
       "       '10/3/2013', '10/15/2013', '1/16/2013', '1/22/2013', '12/6/2013',\n",
       "       '1/17/2013', '3/25/2014', '2/12/2013', '3/6/2013', '2/5/2013',\n",
       "       '8/13/2015', '1/29/2013', '7/17/2013', '1/25/2013', '3/4/2013',\n",
       "       '1/31/2013', '1/28/2013', '5/7/2013', '4/9/2013', '3/14/2013',\n",
       "       '4/26/2013', '4/25/2013', '3/29/2013', '10/11/2013', '7/28/2015',\n",
       "       '1/30/2013', '6/11/2013', '11/4/2013', '7/25/2013', '5/24/2013',\n",
       "       '10/1/2013', '1/23/2013', '8/5/2013', '12/30/2013', '5/6/2014',\n",
       "       '2/25/2013', '2/22/2013', '12/23/2013', '4/3/2013', '2/27/2013',\n",
       "       '2/21/2013', '8/21/2013', '4/8/2013', '2/15/2013', '4/5/2013',\n",
       "       '2/4/2013', '3/7/2013', '8/16/2013', '6/3/2013', '5/3/2013',\n",
       "       '6/26/2013', '3/8/2013', '5/31/2013', '2/13/2013', '8/26/2014',\n",
       "       '12/16/2013', '1/6/2015', '3/5/2013', '1/26/2015', '2/8/2013',\n",
       "       '2/26/2013', '5/17/2013', '3/12/2013', '2/4/2015', '3/11/2013',\n",
       "       '5/8/2013', '3/19/2013', '7/2/2014', '6/18/2013', '4/1/2013',\n",
       "       '10/2/2013', '1/6/2014', '4/12/2013', '3/27/2013', '5/13/2013',\n",
       "       '3/20/2014', '2/25/2014', '5/22/2014', '4/16/2013', '7/1/2013',\n",
       "       '3/26/2013', '2/28/2013', '7/31/2013', '3/28/2013', '5/1/2013',\n",
       "       '10/2/2014', '6/17/2014', '7/10/2013', '4/23/2013', '6/5/2014',\n",
       "       '5/30/2013', '5/10/2013', '3/21/2013', '5/2/2013', '5/20/2013',\n",
       "       '4/4/2014', '5/21/2013', '4/11/2013', '6/12/2014', '6/20/2013',\n",
       "       '5/16/2013', '6/21/2013', '5/19/2014', '3/20/2013', '7/22/2013',\n",
       "       '10/30/2013', '4/19/2013', '2/21/2014', '2/24/2014', '6/5/2013',\n",
       "       '9/10/2013', '6/6/2013', '9/25/2013', '6/9/2014', '8/29/2013',\n",
       "       '5/13/2014', '10/28/2014', '8/9/2013', '4/29/2013', '12/20/2013',\n",
       "       '2/2/2015', '9/20/2013', '2/18/2014', '11/18/2013', '12/12/2013',\n",
       "       '8/11/2014', '3/18/2013', '5/28/2013', '4/16/2014', '6/27/2013',\n",
       "       '5/6/2013', '2/4/2014', '6/4/2013', '5/9/2013', '10/8/2013',\n",
       "       '7/18/2014', '8/18/2015', '11/1/2013', '8/2/2013', '10/17/2013',\n",
       "       '8/12/2013', '10/25/2013', '5/9/2014', '8/7/2014', '8/6/2014',\n",
       "       '2/6/2014', '6/25/2013', '4/18/2013', '7/12/2013', '7/24/2013',\n",
       "       '2/26/2014', '11/13/2013', '5/23/2013', '4/2/2013', '7/19/2013',\n",
       "       '2/19/2014', '10/28/2013', '7/30/2013', '3/15/2013', '9/19/2013',\n",
       "       '11/6/2013', '8/14/2013', '8/20/2014', '9/12/2013', '6/11/2014',\n",
       "       '4/30/2013', '8/8/2013', '1/29/2014', '12/17/2013', '9/29/2016',\n",
       "       '9/9/2013', '2/13/2014', '10/23/2013', '6/13/2013', '4/22/2013',\n",
       "       '6/4/2015', '11/5/2013', '3/13/2014', '8/22/2014', '10/9/2015',\n",
       "       '8/30/2013', '3/7/2014', '6/28/2013', '12/22/2014', '8/15/2013',\n",
       "       '7/3/2013', '9/13/2013', '4/21/2014', '8/1/2013', '5/15/2013',\n",
       "       '4/15/2013', '5/7/2014', '1/13/2014', '12/13/2013', '6/2/2014',\n",
       "       '2/7/2014', '8/29/2016', '6/28/2017', '7/17/2014', '9/15/2014',\n",
       "       '5/8/2014', '3/18/2014', '3/20/2015', '9/11/2013', '2/26/2015',\n",
       "       '9/27/2013', '9/23/2013', '5/22/2013', '5/27/2014', '9/19/2014',\n",
       "       '8/26/2013', '3/4/2014', '11/15/2013', '8/9/2016', '11/18/2014',\n",
       "       '1/17/2014', '11/13/2014', '3/26/2014', '9/17/2014', '3/12/2014',\n",
       "       '8/23/2013', '12/24/2013', '2/5/2014', '5/4/2015', '10/16/2013',\n",
       "       '10/14/2014', '1/21/2014', '9/23/2015', '7/23/2013', '11/14/2013',\n",
       "       '5/30/2014', '6/10/2013', '4/24/2013', '4/25/2014', '8/27/2013',\n",
       "       '4/9/2014', '12/2/2014', '2/28/2014', '1/10/2014', '10/21/2013',\n",
       "       '12/3/2013', '10/24/2013', '7/25/2014', '5/16/2014', '3/17/2014',\n",
       "       '7/9/2013', '11/19/2015', '10/22/2013', '12/11/2013', '3/11/2015',\n",
       "       '7/5/2013', '10/2/2015', '1/23/2014', '4/2/2014', '8/7/2013',\n",
       "       '1/7/2014', '8/19/2013', '11/22/2013', '1/3/2014', '7/2/2013',\n",
       "       '9/24/2013', '1/14/2014', '5/23/2014', '12/2/2013', '2/5/2015',\n",
       "       '2/15/2017', '4/15/2014', '6/19/2014', '10/9/2013', '6/17/2013',\n",
       "       '9/6/2013', '9/18/2014', '5/21/2014', '12/30/2015', '5/2/2014',\n",
       "       '8/13/2013', '9/4/2014', '12/3/2014', '7/29/2014', '12/2/2015',\n",
       "       '4/24/2015', '10/15/2014', '10/8/2014', '6/19/2013', '2/14/2014',\n",
       "       '4/28/2014', '5/29/2013', '5/14/2015', '6/30/2015', '8/4/2014',\n",
       "       '3/19/2015', '7/11/2013', '1/30/2015', '12/19/2013', '2/20/2014',\n",
       "       '11/19/2013', '11/12/2013', '7/26/2013', '7/18/2013', '6/25/2014',\n",
       "       '2/1/2018', '2/7/2018', '1/2/2018', '12/28/2017', '1/23/2018',\n",
       "       '1/11/2018', '1/10/2018', '1/5/2018', '2/15/2018', '2/2/2018',\n",
       "       '1/31/2018', '1/30/2018', '1/9/2018', '1/26/2018', '2/14/2018',\n",
       "       '1/17/2018', '2/16/2018', '1/3/2018', '1/12/2018', '1/16/2018',\n",
       "       '2/5/2018', '1/22/2018', '2/22/2018', '1/18/2018', '2/9/2018',\n",
       "       '2/13/2018', '1/29/2018', '2/6/2018', '2/20/2018', '2/8/2018',\n",
       "       '1/19/2018'], dtype=object)"
      ]
     },
     "execution_count": 90,
     "metadata": {},
     "output_type": "execute_result"
    }
   ],
   "source": [
    "pd.unique(bp['Issued Date'].values)"
   ]
  },
  {
   "cell_type": "code",
   "execution_count": 91,
   "metadata": {},
   "outputs": [
    {
     "data": {
      "text/plain": [
       "0"
      ]
     },
     "execution_count": 91,
     "metadata": {},
     "output_type": "execute_result"
    }
   ],
   "source": [
    "bp['Issued Date'].isnull().sum()"
   ]
  },
  {
   "cell_type": "code",
   "execution_count": 94,
   "metadata": {},
   "outputs": [
    {
     "data": {
      "text/plain": [
       "2141"
      ]
     },
     "execution_count": 94,
     "metadata": {},
     "output_type": "execute_result"
    }
   ],
   "source": [
    "bp['First Construction Document Date'].isnull().sum()"
   ]
  },
  {
   "cell_type": "code",
   "execution_count": 95,
   "metadata": {},
   "outputs": [],
   "source": [
    "bp['First Construction Document Date'].fillna('7/26/2020',inplace = True)"
   ]
  },
  {
   "cell_type": "code",
   "execution_count": 96,
   "metadata": {},
   "outputs": [
    {
     "data": {
      "text/plain": [
       "0"
      ]
     },
     "execution_count": 96,
     "metadata": {},
     "output_type": "execute_result"
    }
   ],
   "source": [
    "bp['First Construction Document Date'].isnull().sum()"
   ]
  },
  {
   "cell_type": "code",
   "execution_count": 98,
   "metadata": {},
   "outputs": [
    {
     "data": {
      "text/plain": [
       "array([4.000000e+03, 1.000000e+00, 2.000000e+04, ..., 2.030000e+04,\n",
       "       7.600000e+05, 1.845312e+04])"
      ]
     },
     "execution_count": 98,
     "metadata": {},
     "output_type": "execute_result"
    }
   ],
   "source": [
    "pd.unique(bp['Estimated Cost'].values)"
   ]
  },
  {
   "cell_type": "code",
   "execution_count": 108,
   "metadata": {},
   "outputs": [],
   "source": [
    "def CalRanges(v):\n",
    "    if v <= 1000:\n",
    "        return '1k below'\n",
    "    if v > 1000 and v <= 10000:\n",
    "        return '1k - 10k'\n",
    "    if v > 10000 and v <= 10000:\n",
    "        return '10k - 100k'\n",
    "    if v > 10000:\n",
    "        return '100k and above'\n",
    "    return 'other'"
   ]
  },
  {
   "cell_type": "code",
   "execution_count": 110,
   "metadata": {},
   "outputs": [],
   "source": [
    "EC_ranges = bp['Estimated Cost'].apply(CalRanges)"
   ]
  },
  {
   "cell_type": "code",
   "execution_count": 111,
   "metadata": {},
   "outputs": [
    {
     "data": {
      "text/plain": [
       "100k and above    10231\n",
       "1k - 10k           4897\n",
       "1k below           2519\n",
       "Name: Estimated Cost, dtype: int64"
      ]
     },
     "execution_count": 111,
     "metadata": {},
     "output_type": "execute_result"
    }
   ],
   "source": [
    "EC_ranges.value_counts()"
   ]
  },
  {
   "cell_type": "code",
   "execution_count": 112,
   "metadata": {},
   "outputs": [
    {
     "data": {
      "text/plain": [
       "Text(0.5, 1.0, 'Estimated Cost')"
      ]
     },
     "execution_count": 112,
     "metadata": {},
     "output_type": "execute_result"
    },
    {
     "data": {
      "image/png": "[encoded data removed]",
      "text/plain": [
       "<Figure size 432x288 with 1 Axes>"
      ]
     },
     "metadata": {},
     "output_type": "display_data"
    }
   ],
   "source": [
    "f = plt.figure()\n",
    "EC_ranges.value_counts().plot.pie(autopct='%1.0f%%',)\n",
    "plt.title('Estimated Cost')"
   ]
  },
  {
   "cell_type": "code",
   "execution_count": 115,
   "metadata": {},
   "outputs": [
    {
     "data": {
      "text/plain": [
       "<AxesSubplot:>"
      ]
     },
     "execution_count": 115,
     "metadata": {},
     "output_type": "execute_result"
    },
    {
     "data": {
      "image/png": "[encoded data removed]",
      "text/plain": [
       "<Figure size 432x288 with 1 Axes>"
      ]
     },
     "metadata": {
      "needs_background": "light"
     },
     "output_type": "display_data"
    }
   ],
   "source": [
    "pur = bp['Estimated Cost'].value_counts()\n",
    "pur.plot(kind='bar')"
   ]
  },
  {
   "cell_type": "code",
   "execution_count": null,
   "metadata": {},
   "outputs": [],
   "source": []
  }
 ],
 "metadata": {
  "kernelspec": {
   "display_name": "Python 3",
   "language": "python",
   "name": "python3"
  },
  "language_info": {
   "codemirror_mode": {
    "name": "ipython",
    "version": 3
   },
   "file_extension": ".py",
   "mimetype": "text/x-python",
   "name": "python",
   "nbconvert_exporter": "python",
   "pygments_lexer": "ipython3",
   "version": "3.8.5"
  }
 },
 "nbformat": 4,
 "nbformat_minor": 4
}
